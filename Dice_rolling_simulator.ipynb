{
 "cells": [
  {
   "cell_type": "code",
   "execution_count": null,
   "id": "a57e4a5e",
   "metadata": {},
   "outputs": [
    {
     "name": "stdout",
     "output_type": "stream",
     "text": [
      "Rolled number: 4\n",
      "Your final rolled number: 4\n"
     ]
    }
   ],
   "source": [
    "\n",
    "import random\n",
    "## Generating random dice face and showing the score\n",
    "rolling_number = random.randint(1,6)\n",
    "print(f\"Rolled number: {rolling_number}\")\n",
    "## Asking user if they want to roll again and getting input from user. if they say 'yes' then roll again. if not break the loop\n",
    "while True:\n",
    "    continue_rolling = input(\"Do you want to roll the dice again? write yes/no \").lower()\n",
    "    if continue_rolling == \"yes\":\n",
    "        rolling_number = random.randint(1,6)\n",
    "        print(f\"Rolled number: {rolling_number}\")\n",
    "    elif continue_rolling == \"no\":\n",
    "        print(f\"Your final rolled number: {rolling_number}\")\n",
    "        break\n",
    "    else:\n",
    "        print(\"Please write either yes or no\") ## to validate user input\n"
   ]
  }
 ],
 "metadata": {
  "kernelspec": {
   "display_name": "Python 3",
   "language": "python",
   "name": "python3"
  },
  "language_info": {
   "codemirror_mode": {
    "name": "ipython",
    "version": 3
   },
   "file_extension": ".py",
   "mimetype": "text/x-python",
   "name": "python",
   "nbconvert_exporter": "python",
   "pygments_lexer": "ipython3",
   "version": "3.12.6"
  }
 },
 "nbformat": 4,
 "nbformat_minor": 5
}
